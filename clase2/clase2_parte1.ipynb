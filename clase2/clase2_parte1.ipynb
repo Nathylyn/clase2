{
 "cells": [
  {
   "cell_type": "code",
   "execution_count": 30,
   "id": "d0a14891",
   "metadata": {},
   "outputs": [],
   "source": [
    "import operator #es mejor importar las librerías en la cabecera"
   ]
  },
  {
   "cell_type": "code",
   "execution_count": 28,
   "id": "a0439605",
   "metadata": {},
   "outputs": [
    {
     "data": {
      "text/plain": [
       "['Hola', 123, 0.45, True, False]"
      ]
     },
     "execution_count": 28,
     "metadata": {},
     "output_type": "execute_result"
    }
   ],
   "source": [
    "#Estructura de lista\n",
    "\n",
    "lista_ej=['Hola',123,0.45,True,False]\n",
    "lista_ej"
   ]
  },
  {
   "cell_type": "code",
   "execution_count": 16,
   "id": "749f2834",
   "metadata": {},
   "outputs": [
    {
     "data": {
      "text/plain": [
       "('Zeus', 'Hades', 'Artemis', 'Diego Armando Maradona')"
      ]
     },
     "execution_count": 16,
     "metadata": {},
     "output_type": "execute_result"
    }
   ],
   "source": [
    "mithology=('Zeus','Hades','Artemis','Diego Armando Maradona')\n",
    "mithology"
   ]
  },
  {
   "cell_type": "code",
   "execution_count": 9,
   "id": "bc9ceb08",
   "metadata": {},
   "outputs": [
    {
     "data": {
      "text/plain": [
       "('Zeus', 'Zeus', 'Hades', 'Artemis')"
      ]
     },
     "execution_count": 9,
     "metadata": {},
     "output_type": "execute_result"
    }
   ],
   "source": [
    "mithology=('Zeus','Zeus','Hades','Artemis')\n",
    "mithology"
   ]
  },
  {
   "cell_type": "code",
   "execution_count": 6,
   "id": "02365ee5",
   "metadata": {},
   "outputs": [
    {
     "data": {
      "text/plain": [
       "'Hades'"
      ]
     },
     "execution_count": 6,
     "metadata": {},
     "output_type": "execute_result"
    }
   ],
   "source": [
    "mithology[2]"
   ]
  },
  {
   "cell_type": "code",
   "execution_count": 7,
   "id": "4284cef2",
   "metadata": {},
   "outputs": [],
   "source": [
    "#las tuplas no soportan que les den otros valores, ejemplo:\n",
    "#mithology[2]=2 da error\n",
    "#son inmutables"
   ]
  },
  {
   "cell_type": "code",
   "execution_count": 8,
   "id": "b39db3c6",
   "metadata": {},
   "outputs": [
    {
     "name": "stdout",
     "output_type": "stream",
     "text": [
      "<class 'tuple'>\n"
     ]
    }
   ],
   "source": [
    "print(type(mithology)) #type dice el tipo de elemento"
   ]
  },
  {
   "cell_type": "code",
   "execution_count": 10,
   "id": "dab64c99",
   "metadata": {},
   "outputs": [
    {
     "data": {
      "text/plain": [
       "4"
      ]
     },
     "execution_count": 10,
     "metadata": {},
     "output_type": "execute_result"
    }
   ],
   "source": [
    "len(mithology) #dimensiones"
   ]
  },
  {
   "cell_type": "code",
   "execution_count": 11,
   "id": "68bcaab0",
   "metadata": {},
   "outputs": [
    {
     "name": "stdout",
     "output_type": "stream",
     "text": [
      "Zeus\n",
      "Zeus\n",
      "Hades\n",
      "Artemis\n"
     ]
    }
   ],
   "source": [
    "for item in mithology: #iterar con for\n",
    "    print(item)"
   ]
  },
  {
   "cell_type": "code",
   "execution_count": 12,
   "id": "06a6c47b",
   "metadata": {},
   "outputs": [
    {
     "name": "stdout",
     "output_type": "stream",
     "text": [
      "Pelusa!\n"
     ]
    }
   ],
   "source": [
    "if 'Diegote' in mithology: #busqueda si el elemento existe\n",
    "    print('Aguante!')\n",
    "else:\n",
    "    print('Pelusa!')"
   ]
  },
  {
   "cell_type": "code",
   "execution_count": 21,
   "id": "ef38cc94",
   "metadata": {},
   "outputs": [
    {
     "name": "stdout",
     "output_type": "stream",
     "text": [
      "('Hola', 123, 0.45, True, False)\n",
      "<class 'tuple'>\n"
     ]
    }
   ],
   "source": [
    "#declarando con constructor: esto es cambiar el tipo de arreglo, para eso sirve tuple, por ejemplo\n",
    "tuple_mithology=tuple(lista_ej)\n",
    "print(tuple_mithology)\n",
    "print(type(tuple_mithology))"
   ]
  },
  {
   "cell_type": "markdown",
   "id": "f6a0c966",
   "metadata": {},
   "source": [
    "DICCIONARIOS"
   ]
  },
  {
   "cell_type": "code",
   "execution_count": 38,
   "id": "0b234764",
   "metadata": {},
   "outputs": [
    {
     "name": "stdout",
     "output_type": "stream",
     "text": [
      "<class 'dict'>\n",
      "{'Volvo S60': 19, 'Mercedes G Class': 22, 'BMW S3': 10}\n"
     ]
    }
   ],
   "source": [
    "#declarando un diccionario (0821 es agosto 2021)\n",
    "miles_K_0821={'Volvo S60':19,\n",
    "        'Mercedes G Class':22,\n",
    "        'BMW S3':10}\n",
    "print(type(miles_K_0821))\n",
    "print(miles_K_0821)"
   ]
  },
  {
   "cell_type": "code",
   "execution_count": 25,
   "id": "3ffdbdcd",
   "metadata": {},
   "outputs": [
    {
     "data": {
      "text/plain": [
       "19"
      ]
     },
     "execution_count": 25,
     "metadata": {},
     "output_type": "execute_result"
    }
   ],
   "source": [
    "miles_K_0821['Volvo S60'] #dice el valor asignado a la tecla"
   ]
  },
  {
   "cell_type": "code",
   "execution_count": 27,
   "id": "7cb9b325",
   "metadata": {},
   "outputs": [
    {
     "data": {
      "text/plain": [
       "3"
      ]
     },
     "execution_count": 27,
     "metadata": {},
     "output_type": "execute_result"
    }
   ],
   "source": [
    "len(miles_K_0821) #ver tamaño del diccionario"
   ]
  },
  {
   "cell_type": "code",
   "execution_count": 34,
   "id": "e4edfc02",
   "metadata": {},
   "outputs": [
    {
     "name": "stdout",
     "output_type": "stream",
     "text": [
      "[('BMW S3', 10), ('Volvo S60', 19), ('Mercedes G Class', 22)]\n",
      "<class 'list'>\n"
     ]
    }
   ],
   "source": [
    "miles_K_ordenado=sorted(miles_K_0821.items(),key=operator.itemgetter(1))\n",
    "print(miles_K_ordenado)\n",
    "print(type(miles_K_ordenado))"
   ]
  },
  {
   "cell_type": "code",
   "execution_count": 40,
   "id": "f0293aee",
   "metadata": {},
   "outputs": [],
   "source": [
    "miles_K_0821['Volvo S60']=22 #se declara un nuevo valor a la key. Los diccionarios son mutables"
   ]
  },
  {
   "cell_type": "code",
   "execution_count": 49,
   "id": "4a7b1907",
   "metadata": {},
   "outputs": [
    {
     "data": {
      "text/plain": [
       "{'Volvo S60': 19, 'Mercedes G Class': 22, 'BMW S3': 25}"
      ]
     },
     "execution_count": 49,
     "metadata": {},
     "output_type": "execute_result"
    }
   ],
   "source": [
    "miles_K_0821={'Volvo S60':19,\n",
    "        'Mercedes G Class':22,\n",
    "        'BMW S3':10,\n",
    "        'BMW S3':25}\n",
    "miles_K_0821"
   ]
  },
  {
   "cell_type": "code",
   "execution_count": 45,
   "id": "93e02a90",
   "metadata": {},
   "outputs": [
    {
     "data": {
      "text/plain": [
       "dict_items([('Volvo S60', 19), ('Mercedes G Class', 22), ('BMW S3', 25)])"
      ]
     },
     "execution_count": 45,
     "metadata": {},
     "output_type": "execute_result"
    }
   ],
   "source": [
    "miles_K_0821.items()"
   ]
  },
  {
   "cell_type": "code",
   "execution_count": 46,
   "id": "258f3a40",
   "metadata": {},
   "outputs": [
    {
     "data": {
      "text/plain": [
       "dict_keys(['Volvo S60', 'Mercedes G Class', 'BMW S3'])"
      ]
     },
     "execution_count": 46,
     "metadata": {},
     "output_type": "execute_result"
    }
   ],
   "source": [
    "miles_K_0821.keys()"
   ]
  },
  {
   "cell_type": "code",
   "execution_count": 47,
   "id": "559cb6d7",
   "metadata": {},
   "outputs": [
    {
     "data": {
      "text/plain": [
       "dict_values([19, 22, 25])"
      ]
     },
     "execution_count": 47,
     "metadata": {},
     "output_type": "execute_result"
    }
   ],
   "source": [
    "miles_K_0821.values()"
   ]
  },
  {
   "cell_type": "code",
   "execution_count": 51,
   "id": "8fd8e74f",
   "metadata": {},
   "outputs": [],
   "source": [
    "#borrando pares\n",
    "del miles_K_0821['Volvo S60']\n",
    "\n"
   ]
  },
  {
   "cell_type": "code",
   "execution_count": 53,
   "id": "e3c3b505",
   "metadata": {},
   "outputs": [
    {
     "name": "stdout",
     "output_type": "stream",
     "text": [
      "Mercedes G Class\n",
      "BMW S3\n"
     ]
    }
   ],
   "source": [
    "for k in miles_K_0821.keys():\n",
    "    print(k)"
   ]
  },
  {
   "cell_type": "code",
   "execution_count": 54,
   "id": "bfc6d211",
   "metadata": {},
   "outputs": [
    {
     "name": "stdout",
     "output_type": "stream",
     "text": [
      "22\n",
      "25\n"
     ]
    }
   ],
   "source": [
    "for k in miles_K_0821.values():\n",
    "    print(k)"
   ]
  },
  {
   "cell_type": "markdown",
   "id": "2b090795",
   "metadata": {},
   "source": []
  },
  {
   "cell_type": "markdown",
   "id": "9c2aee21",
   "metadata": {},
   "source": [
    "SETS"
   ]
  },
  {
   "cell_type": "code",
   "execution_count": 56,
   "id": "e7e4e4aa",
   "metadata": {},
   "outputs": [
    {
     "data": {
      "text/plain": [
       "{'Diego Armando Maradona', 'Item1', 'Item2', 'Item3'}"
      ]
     },
     "execution_count": 56,
     "metadata": {},
     "output_type": "execute_result"
    }
   ],
   "source": [
    "set_ej={'Item1','Item2','Diego Armando Maradona','Item3'}\n",
    "set_ej"
   ]
  },
  {
   "cell_type": "code",
   "execution_count": 57,
   "id": "c36470ab",
   "metadata": {},
   "outputs": [],
   "source": [
    "#es inmutable, esto no sirve de nada: ej[1]='x'"
   ]
  },
  {
   "cell_type": "code",
   "execution_count": 58,
   "id": "608991d8",
   "metadata": {},
   "outputs": [
    {
     "data": {
      "text/plain": [
       "set"
      ]
     },
     "execution_count": 58,
     "metadata": {},
     "output_type": "execute_result"
    }
   ],
   "source": [
    "type(set_ej)"
   ]
  },
  {
   "cell_type": "code",
   "execution_count": 66,
   "id": "24a3b061",
   "metadata": {},
   "outputs": [
    {
     "data": {
      "text/plain": [
       "{'Diego Armando Maradona', 'Item1', 'Item2', 'Item3'}"
      ]
     },
     "execution_count": 66,
     "metadata": {},
     "output_type": "execute_result"
    }
   ],
   "source": [
    "set_ej={'Item1','Item2','Diego Armando Maradona','Item3','Item1','Item1'}\n",
    "set_ej #cuando tiene items repetidos solo imprime el primero, en el caso de los diccionarios solo el último. las tuplas y las listas aceptan repeticiones."
   ]
  },
  {
   "cell_type": "code",
   "execution_count": 67,
   "id": "c694b975",
   "metadata": {},
   "outputs": [
    {
     "data": {
      "text/plain": [
       "4"
      ]
     },
     "execution_count": 67,
     "metadata": {},
     "output_type": "execute_result"
    }
   ],
   "source": [
    "len(set_ej)"
   ]
  },
  {
   "cell_type": "code",
   "execution_count": 68,
   "id": "4d9bcb62",
   "metadata": {},
   "outputs": [
    {
     "data": {
      "text/plain": [
       "{'Diego Armando Maradona', 'Item1', 'Item2', 'Item3', 'Item8'}"
      ]
     },
     "execution_count": 68,
     "metadata": {},
     "output_type": "execute_result"
    }
   ],
   "source": [
    "set_ej.add('Item8')\n",
    "set_ej"
   ]
  },
  {
   "cell_type": "code",
   "execution_count": 69,
   "id": "d95013e6",
   "metadata": {},
   "outputs": [
    {
     "data": {
      "text/plain": [
       "{'Diego Armando Maradona', 'Item2', 'Item3', 'Item8'}"
      ]
     },
     "execution_count": 69,
     "metadata": {},
     "output_type": "execute_result"
    }
   ],
   "source": [
    "set_ej.remove('Item1')\n",
    "set_ej"
   ]
  },
  {
   "cell_type": "code",
   "execution_count": 76,
   "id": "542fc0ed",
   "metadata": {},
   "outputs": [
    {
     "data": {
      "text/plain": [
       "{10, 'Jenifer', 'Mariangel', 'Perla', 'Saul'}"
      ]
     },
     "execution_count": 76,
     "metadata": {},
     "output_type": "execute_result"
    }
   ],
   "source": [
    "#constructor\n",
    "set_ej2=set(['Jenifer','Mariangel','Perla','Saul',10])\n",
    "set_ej2"
   ]
  },
  {
   "cell_type": "code",
   "execution_count": 74,
   "id": "793e3164",
   "metadata": {},
   "outputs": [
    {
     "name": "stdout",
     "output_type": "stream",
     "text": [
      "<class 'set'>\n",
      "5\n"
     ]
    }
   ],
   "source": [
    "print(type(set_ej2))\n",
    "print(len(set_ej2))"
   ]
  },
  {
   "cell_type": "code",
   "execution_count": 77,
   "id": "b8f6d6c7",
   "metadata": {},
   "outputs": [
    {
     "data": {
      "text/plain": [
       "True"
      ]
     },
     "execution_count": 77,
     "metadata": {},
     "output_type": "execute_result"
    }
   ],
   "source": [
    "#buscar si un  valor está dentro del set\n",
    "'Perla' in set_ej2"
   ]
  },
  {
   "cell_type": "code",
   "execution_count": 78,
   "id": "e0847f9b",
   "metadata": {},
   "outputs": [
    {
     "data": {
      "text/plain": [
       "True"
      ]
     },
     "execution_count": 78,
     "metadata": {},
     "output_type": "execute_result"
    }
   ],
   "source": [
    "10 in set_ej2"
   ]
  },
  {
   "cell_type": "code",
   "execution_count": 79,
   "id": "d081a6ac",
   "metadata": {},
   "outputs": [
    {
     "name": "stdout",
     "output_type": "stream",
     "text": [
      "Hola\n"
     ]
    }
   ],
   "source": [
    "if 'Perla' in set_ej2:\n",
    "    print('Hola')"
   ]
  },
  {
   "cell_type": "code",
   "execution_count": 84,
   "id": "7bb9fe74",
   "metadata": {},
   "outputs": [
    {
     "name": "stdout",
     "output_type": "stream",
     "text": [
      "Juan se fue de pinta\n",
      "Ernesto se fue de pinta\n",
      "Jenifer presente\n"
     ]
    }
   ],
   "source": [
    "for i in ['Juan','Ernesto','Jenifer']:\n",
    "    if i in set_ej2:\n",
    "        print(i+' presente')\n",
    "    else:\n",
    "        print(i+' se fue de pinta')\n",
    "    "
   ]
  },
  {
   "cell_type": "code",
   "execution_count": 85,
   "id": "b0254508",
   "metadata": {},
   "outputs": [],
   "source": [
    "#En realidad el is y el in no se utilizan juntos\n",
    "#Se puede usar “is not\"\n",
    "#is es similar a usar == , pero no tienen completamente el mismo comportamiento\n"
   ]
  },
  {
   "cell_type": "markdown",
   "id": "10e40856",
   "metadata": {},
   "source": [
    "UNIÓN, INTERSECCIÓN Y DIFERENCIA"
   ]
  },
  {
   "cell_type": "code",
   "execution_count": 87,
   "id": "304cb603",
   "metadata": {},
   "outputs": [],
   "source": [
    "lista_1=['Jenifer','Mariangel','Perla','Saul','Luis']\n",
    "lista_2=['Juan','Ernesto','Jenifer','Chucho','Karla']"
   ]
  },
  {
   "cell_type": "code",
   "execution_count": 88,
   "id": "20234ebf",
   "metadata": {},
   "outputs": [],
   "source": [
    "lista_1=set(lista_1)\n",
    "lista_2=set(lista_2)"
   ]
  },
  {
   "cell_type": "code",
   "execution_count": 90,
   "id": "67ca1430",
   "metadata": {},
   "outputs": [
    {
     "data": {
      "text/plain": [
       "{'Jenifer'}"
      ]
     },
     "execution_count": 90,
     "metadata": {},
     "output_type": "execute_result"
    }
   ],
   "source": [
    "#intersección\n",
    "a1_2g=lista_1.intersection(lista_2)\n",
    "a1_2g"
   ]
  },
  {
   "cell_type": "code",
   "execution_count": 92,
   "id": "692b6857",
   "metadata": {},
   "outputs": [
    {
     "data": {
      "text/plain": [
       "{'Chucho', 'Ernesto', 'Jenifer', 'Juan', 'Karla'}"
      ]
     },
     "execution_count": 92,
     "metadata": {},
     "output_type": "execute_result"
    }
   ],
   "source": [
    "#unión\n",
    "conv_v=lista_2.union(lista_2)\n",
    "conv_v"
   ]
  },
  {
   "cell_type": "code",
   "execution_count": 94,
   "id": "ae5d3d51",
   "metadata": {},
   "outputs": [
    {
     "data": {
      "text/plain": [
       "{'Luis', 'Mariangel', 'Perla', 'Saul'}"
      ]
     },
     "execution_count": 94,
     "metadata": {},
     "output_type": "execute_result"
    }
   ],
   "source": [
    "diferencia=lista_1-lista_2\n",
    "diferencia"
   ]
  },
  {
   "cell_type": "code",
   "execution_count": null,
   "id": "ada7345c",
   "metadata": {},
   "outputs": [],
   "source": []
  }
 ],
 "metadata": {
  "kernelspec": {
   "display_name": "Python 3",
   "language": "python",
   "name": "python3"
  },
  "language_info": {
   "codemirror_mode": {
    "name": "ipython",
    "version": 3
   },
   "file_extension": ".py",
   "mimetype": "text/x-python",
   "name": "python",
   "nbconvert_exporter": "python",
   "pygments_lexer": "ipython3",
   "version": "3.8.8"
  }
 },
 "nbformat": 4,
 "nbformat_minor": 5
}
