{
 "cells": [
  {
   "cell_type": "code",
   "execution_count": 1,
   "id": "a9303a1f",
   "metadata": {},
   "outputs": [],
   "source": [
    "#Lista: Es una estructura de datos que puede contener elementos en su interior de distinta clase y que podemos modificar\n",
    "lista=[1,2,3,4.5,6.1,'a','b','saludos',['a','b'],(56,23),True,{32,12},{'llave','valor'}]"
   ]
  },
  {
   "cell_type": "code",
   "execution_count": 7,
   "id": "f8f2a5b4",
   "metadata": {},
   "outputs": [
    {
     "data": {
      "text/plain": [
       "{'llave', 'valor'}"
      ]
     },
     "execution_count": 7,
     "metadata": {},
     "output_type": "execute_result"
    }
   ],
   "source": [
    "lista[12] #últmo elemento"
   ]
  },
  {
   "cell_type": "code",
   "execution_count": 6,
   "id": "5565c825",
   "metadata": {},
   "outputs": [
    {
     "data": {
      "text/plain": [
       "{'llave', 'valor'}"
      ]
     },
     "execution_count": 6,
     "metadata": {},
     "output_type": "execute_result"
    }
   ],
   "source": [
    "lista[-1] #últmo elemento"
   ]
  },
  {
   "cell_type": "code",
   "execution_count": 5,
   "id": "e0fd70c0",
   "metadata": {},
   "outputs": [
    {
     "data": {
      "text/plain": [
       "[1, 4, 5, 8]"
      ]
     },
     "execution_count": 5,
     "metadata": {},
     "output_type": "execute_result"
    }
   ],
   "source": [
    "list((1,4,5,8)) #constructor"
   ]
  },
  {
   "cell_type": "markdown",
   "id": "80075854",
   "metadata": {},
   "source": [
    "# Unpacking"
   ]
  },
  {
   "cell_type": "code",
   "execution_count": 10,
   "id": "bd8beaea",
   "metadata": {},
   "outputs": [
    {
     "data": {
      "text/plain": [
       "(1, 2)"
      ]
     },
     "execution_count": 10,
     "metadata": {},
     "output_type": "execute_result"
    }
   ],
   "source": [
    "a,b=1,2 \n",
    "a,b"
   ]
  },
  {
   "cell_type": "code",
   "execution_count": 16,
   "id": "ef88d006",
   "metadata": {},
   "outputs": [
    {
     "data": {
      "text/plain": [
       "4"
      ]
     },
     "execution_count": 16,
     "metadata": {},
     "output_type": "execute_result"
    }
   ],
   "source": [
    "c,d=[3,4]\n",
    "d"
   ]
  },
  {
   "cell_type": "code",
   "execution_count": 17,
   "id": "ef4dce9e",
   "metadata": {},
   "outputs": [],
   "source": [
    "num_dict={'uno':1,'dos':2,'tres':3}"
   ]
  },
  {
   "cell_type": "code",
   "execution_count": 18,
   "id": "d8f92920",
   "metadata": {},
   "outputs": [],
   "source": [
    "a,b,c=num_dict"
   ]
  },
  {
   "cell_type": "code",
   "execution_count": 19,
   "id": "3681929d",
   "metadata": {},
   "outputs": [
    {
     "data": {
      "text/plain": [
       "'uno'"
      ]
     },
     "execution_count": 19,
     "metadata": {},
     "output_type": "execute_result"
    }
   ],
   "source": [
    "a # cuando s desempacan diccionarios solo genera las keys"
   ]
  },
  {
   "cell_type": "code",
   "execution_count": 20,
   "id": "9a1d9560",
   "metadata": {},
   "outputs": [],
   "source": [
    "#para desempacar los valoresse hace así:\n",
    "a,b,c=num_dict.values()"
   ]
  },
  {
   "cell_type": "code",
   "execution_count": 21,
   "id": "bb6195e5",
   "metadata": {},
   "outputs": [
    {
     "data": {
      "text/plain": [
       "2"
      ]
     },
     "execution_count": 21,
     "metadata": {},
     "output_type": "execute_result"
    }
   ],
   "source": [
    "b"
   ]
  },
  {
   "cell_type": "code",
   "execution_count": 24,
   "id": "459ec778",
   "metadata": {},
   "outputs": [],
   "source": [
    "a,b,c=num_dict.items() #devuelve la llave y el valor"
   ]
  },
  {
   "cell_type": "code",
   "execution_count": 23,
   "id": "289cdf25",
   "metadata": {},
   "outputs": [
    {
     "data": {
      "text/plain": [
       "('tres', 3)"
      ]
     },
     "execution_count": 23,
     "metadata": {},
     "output_type": "execute_result"
    }
   ],
   "source": [
    "c\n"
   ]
  },
  {
   "cell_type": "code",
   "execution_count": 26,
   "id": "122e1647",
   "metadata": {},
   "outputs": [],
   "source": [
    "p,q,r=range(3)"
   ]
  },
  {
   "cell_type": "code",
   "execution_count": 33,
   "id": "4aeff9fc",
   "metadata": {},
   "outputs": [
    {
     "name": "stdout",
     "output_type": "stream",
     "text": [
      "0 1 2\n"
     ]
    }
   ],
   "source": [
    "print(p,q,r)\n"
   ]
  },
  {
   "cell_type": "code",
   "execution_count": 44,
   "id": "88eb20b1",
   "metadata": {},
   "outputs": [
    {
     "data": {
      "text/plain": [
       "range(0, 3)"
      ]
     },
     "execution_count": 44,
     "metadata": {},
     "output_type": "execute_result"
    }
   ],
   "source": [
    "range(3)\n"
   ]
  },
  {
   "cell_type": "code",
   "execution_count": 87,
   "id": "d78a5843",
   "metadata": {
    "scrolled": true
   },
   "outputs": [
    {
     "ename": "ValueError",
     "evalue": "too many values to unpack (expected 3)",
     "output_type": "error",
     "traceback": [
      "\u001b[1;31m---------------------------------------------------------------------------\u001b[0m",
      "\u001b[1;31mValueError\u001b[0m                                Traceback (most recent call last)",
      "\u001b[1;32m<ipython-input-87-de02327c2cde>\u001b[0m in \u001b[0;36m<module>\u001b[1;34m\u001b[0m\n\u001b[0;32m      2\u001b[0m \u001b[1;33m\u001b[0m\u001b[0m\n\u001b[0;32m      3\u001b[0m \u001b[1;32mfor\u001b[0m \u001b[0muser\u001b[0m \u001b[1;32min\u001b[0m \u001b[0mbase_datos\u001b[0m\u001b[1;33m:\u001b[0m\u001b[1;33m\u001b[0m\u001b[1;33m\u001b[0m\u001b[0m\n\u001b[1;32m----> 4\u001b[1;33m     \u001b[0mnombre\u001b[0m\u001b[1;33m,\u001b[0m\u001b[0medad\u001b[0m\u001b[1;33m,\u001b[0m\u001b[0mcorreo\u001b[0m\u001b[1;33m=\u001b[0m\u001b[0muser\u001b[0m\u001b[1;33m\u001b[0m\u001b[1;33m\u001b[0m\u001b[0m\n\u001b[0m\u001b[0;32m      5\u001b[0m     \u001b[0mnombre\u001b[0m\u001b[1;33m.\u001b[0m\u001b[0mupper\u001b[0m\u001b[1;33m(\u001b[0m\u001b[1;33m)\u001b[0m\u001b[1;33m\u001b[0m\u001b[1;33m\u001b[0m\u001b[0m\n",
      "\u001b[1;31mValueError\u001b[0m: too many values to unpack (expected 3)"
     ]
    }
   ],
   "source": [
    "nombre,edad,correo=['Ponce',27,'chuchu@gmail.com']\n",
    "\n",
    "for user in base_datos:\n",
    "    nombre,edad,correo=user\n",
    "    nombre.upper()"
   ]
  },
  {
   "cell_type": "code",
   "execution_count": 59,
   "id": "fde934c9",
   "metadata": {},
   "outputs": [
    {
     "ename": "SyntaxError",
     "evalue": "invalid syntax (<ipython-input-59-84100fe61fb9>, line 5)",
     "output_type": "error",
     "traceback": [
      "\u001b[1;36m  File \u001b[1;32m\"<ipython-input-59-84100fe61fb9>\"\u001b[1;36m, line \u001b[1;32m5\u001b[0m\n\u001b[1;33m    print(f'a={a},f'b={b}')\u001b[0m\n\u001b[1;37m                    ^\u001b[0m\n\u001b[1;31mSyntaxError\u001b[0m\u001b[1;31m:\u001b[0m invalid syntax\n"
     ]
    }
   ],
   "source": [
    "a=0\n",
    "b=1\n",
    "print(f'a= {a}',f'b= {b}')\n",
    "a,b=b,b\n",
    "print(f'a={a},f'b={b}')"
   ]
  },
  {
   "cell_type": "code",
   "execution_count": 54,
   "id": "923c3b8c",
   "metadata": {},
   "outputs": [
    {
     "name": "stdout",
     "output_type": "stream",
     "text": [
      "0\n",
      "1\n",
      "1\n",
      "2\n",
      "3\n",
      "5\n",
      "8\n",
      "13\n",
      "21\n",
      "34\n",
      "55\n",
      "89\n"
     ]
    }
   ],
   "source": [
    "#fibonacci\n",
    "a,b=0,1\n",
    "print(a) #imprime los primeros 2 elementos: 0 y 1\n",
    "print(b)\n",
    "for i in range(10):\n",
    "    a,b=b,a+b #actualizando valores\n",
    "    print(b)\n"
   ]
  },
  {
   "cell_type": "code",
   "execution_count": 55,
   "id": "f83dfc5e",
   "metadata": {},
   "outputs": [],
   "source": [
    "people=['Benja','Mari','Nathy','Wil']\n",
    "ages=[25,28,27,33]\n",
    "city=['Caracas','Maracaibo','Caracas','Caracas']"
   ]
  },
  {
   "cell_type": "code",
   "execution_count": 57,
   "id": "3a9341a0",
   "metadata": {},
   "outputs": [
    {
     "name": "stdout",
     "output_type": "stream",
     "text": [
      "Benja 25 Caracas\n",
      "Mari 28 Maracaibo\n",
      "Nathy 27 Caracas\n",
      "Wil 33 Caracas\n"
     ]
    }
   ],
   "source": [
    "for data in zip(people,ages,city):\n",
    "    person,age,city=data\n",
    "    print(person,age,city)"
   ]
  },
  {
   "cell_type": "code",
   "execution_count": 60,
   "id": "e663cfbb",
   "metadata": {},
   "outputs": [
    {
     "name": "stdout",
     "output_type": "stream",
     "text": [
      "('Miranda', 100)\n",
      "('Lara', 350)\n",
      "('Zulia', 340)\n",
      "('Falcón', 500)\n"
     ]
    }
   ],
   "source": [
    "edos=['Miranda','Lara','Zulia','Falcón']\n",
    "pob=[100,350,340,500]\n",
    "\n",
    "for data in zip(edos,pob):\n",
    "    print(data)"
   ]
  },
  {
   "cell_type": "code",
   "execution_count": 61,
   "id": "6e996fd5",
   "metadata": {},
   "outputs": [
    {
     "name": "stdout",
     "output_type": "stream",
     "text": [
      "Miranda 100k\n",
      "Lara 350k\n",
      "Zulia 340k\n",
      "Falcón 500k\n"
     ]
    }
   ],
   "source": [
    "for i in range(len(edos)):\n",
    "    print(edos[i],str(pob[i])+'k')"
   ]
  },
  {
   "cell_type": "code",
   "execution_count": 64,
   "id": "3aae6aa1",
   "metadata": {},
   "outputs": [],
   "source": [
    "edo_pob = [(edos[i],pob[i]) for i in range(len(edos))]"
   ]
  },
  {
   "cell_type": "code",
   "execution_count": 66,
   "id": "f8717d7e",
   "metadata": {},
   "outputs": [
    {
     "data": {
      "text/plain": [
       "[('Miranda', 100), ('Lara', 350), ('Zulia', 340), ('Falcón', 500)]"
      ]
     },
     "execution_count": 66,
     "metadata": {},
     "output_type": "execute_result"
    }
   ],
   "source": [
    "edo_pob\n",
    "#compresión de listas"
   ]
  },
  {
   "cell_type": "code",
   "execution_count": 68,
   "id": "e2dc63f4",
   "metadata": {},
   "outputs": [
    {
     "data": {
      "text/plain": [
       "[0, 2, 4, 6, 8]"
      ]
     },
     "execution_count": 68,
     "metadata": {},
     "output_type": "execute_result"
    }
   ],
   "source": [
    "#sin comprimir\n",
    "\n",
    "lista=[]\n",
    "for i in range(0,10,2): #va de 2 en 2\n",
    "    lista.append(i)\n",
    "lista"
   ]
  },
  {
   "cell_type": "code",
   "execution_count": 71,
   "id": "cabd1f5b",
   "metadata": {},
   "outputs": [
    {
     "data": {
      "text/plain": [
       "[0, 2, 4, 6, 8]"
      ]
     },
     "execution_count": 71,
     "metadata": {},
     "output_type": "execute_result"
    }
   ],
   "source": [
    "#compresión de lista \n",
    "lista=[i for i in range(0,10,2)]\n",
    "lista"
   ]
  },
  {
   "cell_type": "code",
   "execution_count": 72,
   "id": "056ea46a",
   "metadata": {},
   "outputs": [],
   "source": [
    "lista2=[i**2 for i in range(0,10,2)]"
   ]
  },
  {
   "cell_type": "code",
   "execution_count": 73,
   "id": "90d74f44",
   "metadata": {},
   "outputs": [
    {
     "data": {
      "text/plain": [
       "[0, 4, 16, 36, 64]"
      ]
     },
     "execution_count": 73,
     "metadata": {},
     "output_type": "execute_result"
    }
   ],
   "source": [
    "lista2"
   ]
  },
  {
   "cell_type": "code",
   "execution_count": 74,
   "id": "77827214",
   "metadata": {},
   "outputs": [],
   "source": [
    "super_duper_lista=list()\n",
    "\n",
    "for i in range(100):\n",
    "    if i%2==0:\n",
    "        super_duper_lista.append(i)"
   ]
  },
  {
   "cell_type": "code",
   "execution_count": 75,
   "id": "38dac3bf",
   "metadata": {},
   "outputs": [
    {
     "name": "stdout",
     "output_type": "stream",
     "text": [
      "[0, 2, 4, 6, 8, 10, 12, 14, 16, 18, 20, 22, 24, 26, 28, 30, 32, 34, 36, 38, 40, 42, 44, 46, 48, 50, 52, 54, 56, 58, 60, 62, 64, 66, 68, 70, 72, 74, 76, 78, 80, 82, 84, 86, 88, 90, 92, 94, 96, 98]\n"
     ]
    }
   ],
   "source": [
    "print(super_duper_lista)"
   ]
  },
  {
   "cell_type": "code",
   "execution_count": 78,
   "id": "c8f06c02",
   "metadata": {},
   "outputs": [],
   "source": [
    "#Formula para List Comprehension\n",
    "#[<output> for <item in list> in <list>]\n",
    "#Los valores entre < > los van a modificar\n",
    "#[<output> for <item in list> in <list> if <condicion>]\n"
   ]
  },
  {
   "cell_type": "code",
   "execution_count": 79,
   "id": "85137ada",
   "metadata": {},
   "outputs": [],
   "source": [
    "super_duper_lista=[i for i in range(100) if i%2==0]"
   ]
  },
  {
   "cell_type": "code",
   "execution_count": 80,
   "id": "971de2f6",
   "metadata": {},
   "outputs": [
    {
     "name": "stdout",
     "output_type": "stream",
     "text": [
      "[('A', 'A'), ('A', 'B'), ('A', 'C'), ('A', 'D'), ('B', 'B'), ('B', 'C'), ('B', 'D'), ('C', 'C'), ('C', 'D'), ('D', 'D')]\n"
     ]
    }
   ],
   "source": [
    "letras='ABCD' #A en indice 0, B en indice 1,....\n",
    "pares=[]\n",
    "for a in range(len(letras)):\n",
    "    for b in range(a,len(letras)):\n",
    "        pares.append((letras[a],letras[b]))\n",
    "print(pares) #imprimir pares"
   ]
  },
  {
   "cell_type": "code",
   "execution_count": 81,
   "id": "fc1ea4b6",
   "metadata": {},
   "outputs": [
    {
     "ename": "SyntaxError",
     "evalue": "invalid syntax (<ipython-input-81-985bd078b82a>, line 1)",
     "output_type": "error",
     "traceback": [
      "\u001b[1;36m  File \u001b[1;32m\"<ipython-input-81-985bd078b82a>\"\u001b[1;36m, line \u001b[1;32m1\u001b[0m\n\u001b[1;33m    i for i in range(len(letras))[b for b in range(a,len(letras)]\u001b[0m\n\u001b[1;37m      ^\u001b[0m\n\u001b[1;31mSyntaxError\u001b[0m\u001b[1;31m:\u001b[0m invalid syntax\n"
     ]
    }
   ],
   "source": [
    "i for i in range(len(letras))[b for b in range(a,len(letras)]"
   ]
  },
  {
   "cell_type": "code",
   "execution_count": 83,
   "id": "deb125d4",
   "metadata": {},
   "outputs": [],
   "source": [
    "letras='ABCD'\n",
    "pares=[(letras[a],letras[b]) for a in range(len(letras)) for b in range(a,len(letras))]"
   ]
  },
  {
   "cell_type": "code",
   "execution_count": 84,
   "id": "e1d5bcd2",
   "metadata": {},
   "outputs": [
    {
     "data": {
      "text/plain": [
       "[('A', 'A'),\n",
       " ('A', 'B'),\n",
       " ('A', 'C'),\n",
       " ('A', 'D'),\n",
       " ('B', 'B'),\n",
       " ('B', 'C'),\n",
       " ('B', 'D'),\n",
       " ('C', 'C'),\n",
       " ('C', 'D'),\n",
       " ('D', 'D')]"
      ]
     },
     "execution_count": 84,
     "metadata": {},
     "output_type": "execute_result"
    }
   ],
   "source": [
    "pares"
   ]
  },
  {
   "cell_type": "code",
   "execution_count": 86,
   "id": "bbd66a5d",
   "metadata": {},
   "outputs": [
    {
     "name": "stdout",
     "output_type": "stream",
     "text": [
      "[100, 'se paso', 150, 125, 'se paso', 'se paso']\n"
     ]
    }
   ],
   "source": [
    "numeros=[100,200,150,125,300,500]\n",
    "numeros_filtrados=[]\n",
    "for i in numeros:\n",
    "    if i<200:\n",
    "        numeros_filtrados.append(i)\n",
    "    else:\n",
    "        numeros_filtrados.append('se paso')\n",
    "        \n",
    "print(numeros_filtrados)"
   ]
  },
  {
   "cell_type": "code",
   "execution_count": 95,
   "id": "06042640",
   "metadata": {},
   "outputs": [],
   "source": [
    "numeros_filtrados=[i if i<200 else 'se paso' for i in numeros]"
   ]
  },
  {
   "cell_type": "code",
   "execution_count": 100,
   "id": "c7baf877",
   "metadata": {},
   "outputs": [
    {
     "data": {
      "text/plain": [
       "[150, 125]"
      ]
     },
     "execution_count": 100,
     "metadata": {},
     "output_type": "execute_result"
    }
   ],
   "source": [
    "numeros_filtrados=[i for i in numeros if i<200 if i>100]\n",
    "numeros_filtrados"
   ]
  },
  {
   "cell_type": "markdown",
   "id": "a81f0c2e",
   "metadata": {},
   "source": [
    "#si tengo un if-else debe ponerse del lado izquierdo\n",
    "#para un if-if lo puedo poner del lado izquierdo, también para if solo"
   ]
  },
  {
   "cell_type": "code",
   "execution_count": 99,
   "id": "92b3a5f8",
   "metadata": {},
   "outputs": [
    {
     "data": {
      "text/plain": [
       "[100, 'se paso', 150, 125, 'se paso', 'se paso']"
      ]
     },
     "execution_count": 99,
     "metadata": {},
     "output_type": "execute_result"
    }
   ],
   "source": [
    "def doscientos_para_arriba(numero):\n",
    "    return numero if numero<200 else 'se paso'\n",
    "numeros_filtrado=[doscientos_para_arriba(i) for i in numeros]\n",
    "numeros_filtrado"
   ]
  },
  {
   "cell_type": "code",
   "execution_count": 101,
   "id": "06b61eeb",
   "metadata": {},
   "outputs": [
    {
     "data": {
      "text/plain": [
       "[[0, 1, 2, 3, 4, 5, 6],\n",
       " [0, 1, 2, 3, 4, 5, 6],\n",
       " [0, 1, 2, 3, 4, 5, 6],\n",
       " [0, 1, 2, 3, 4, 5, 6],\n",
       " [0, 1, 2, 3, 4, 5, 6]]"
      ]
     },
     "execution_count": 101,
     "metadata": {},
     "output_type": "execute_result"
    }
   ],
   "source": [
    "matriz=[[i for i in range(7)]\n",
    "        for j in range(5)\n",
    "       ]\n",
    "matriz"
   ]
  },
  {
   "cell_type": "code",
   "execution_count": 105,
   "id": "f1ba8864",
   "metadata": {},
   "outputs": [
    {
     "data": {
      "text/plain": [
       "'abcdefghijklmnopqrstuvwxyz'"
      ]
     },
     "execution_count": 105,
     "metadata": {},
     "output_type": "execute_result"
    }
   ],
   "source": [
    "from string import ascii_lowercase\n",
    "\n",
    "ascii_lowercase"
   ]
  },
  {
   "cell_type": "code",
   "execution_count": 106,
   "id": "b11c9ebf",
   "metadata": {},
   "outputs": [
    {
     "name": "stdout",
     "output_type": "stream",
     "text": [
      "{('o', 15), ('q', 17), ('j', 10), ('s', 19), ('y', 25), ('m', 13), ('x', 24), ('e', 5), ('p', 16), ('b', 2), ('n', 14), ('z', 26), ('h', 8), ('t', 20), ('l', 12), ('r', 18), ('c', 3), ('f', 6), ('a', 1), ('i', 9), ('d', 4), ('g', 7), ('v', 22), ('w', 23), ('k', 11), ('u', 21)}\n"
     ]
    }
   ],
   "source": [
    "lettermap={(c,k) for k, c in enumerate(ascii_lowercase,1)}\n",
    "print(lettermap)"
   ]
  },
  {
   "cell_type": "code",
   "execution_count": null,
   "id": "cb8eb488",
   "metadata": {},
   "outputs": [],
   "source": []
  }
 ],
 "metadata": {
  "kernelspec": {
   "display_name": "Python 3",
   "language": "python",
   "name": "python3"
  },
  "language_info": {
   "codemirror_mode": {
    "name": "ipython",
    "version": 3
   },
   "file_extension": ".py",
   "mimetype": "text/x-python",
   "name": "python",
   "nbconvert_exporter": "python",
   "pygments_lexer": "ipython3",
   "version": "3.8.8"
  }
 },
 "nbformat": 4,
 "nbformat_minor": 5
}
